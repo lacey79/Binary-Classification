{
  "nbformat": 4,
  "nbformat_minor": 0,
  "metadata": {
    "colab": {
      "provenance": []
    },
    "kernelspec": {
      "name": "python3",
      "display_name": "Python 3"
    },
    "language_info": {
      "name": "python"
    }
  },
  "cells": [
    {
      "cell_type": "markdown",
      "source": [
        "This program is about building a binary classification model using Keras library in Python. The program starts by installing the necessary libraries (Keras and NumPy), and then imports the required libraries and defines hyperparameters for the deep learning model.\n",
        "\n",
        "The program uses a simple example of a binary classification problem where the input features are 10-dimensional, and the output is binary (0 or 1). A feedforward neural network with two hidden layers is used, each with 5 units, and the output layer has a single unit with a sigmoid activation function for binary classification.\n",
        "\n",
        "Next, the program generates some random training data, and then uses the Sequential class from Keras to build the model. The input layer is added first, followed by the hidden layers (the number of hidden layers is defined by the user), and the output layer is added last. The compile() method is used to configure the model with an optimizer and loss function.\n",
        "\n",
        "Finally, the program trains the model on the training data using the fit() method, and then makes predictions on new data using the predict() method. The predicted values for the test data are then outputted."
      ],
      "metadata": {
        "id": "idZRod2UaEzh"
      }
    },
    {
      "cell_type": "markdown",
      "source": [
        "First, we need to install some necessary libraries. We'll use the Keras library to build the model, and the numpy library for numerical computations:\n",
        "\n",
        "\n"
      ],
      "metadata": {
        "id": "j6VRDPCTSIFo"
      }
    },
    {
      "cell_type": "code",
      "execution_count": 1,
      "metadata": {
        "colab": {
          "base_uri": "https://localhost:8080/"
        },
        "id": "I-fBtzgQReuU",
        "outputId": "66f7d148-de84-456d-e9e8-9fa2c44c46fc"
      },
      "outputs": [
        {
          "output_type": "stream",
          "name": "stdout",
          "text": [
            "Looking in indexes: https://pypi.org/simple, https://us-python.pkg.dev/colab-wheels/public/simple/\n",
            "Requirement already satisfied: keras in /usr/local/lib/python3.9/dist-packages (2.12.0)\n",
            "Looking in indexes: https://pypi.org/simple, https://us-python.pkg.dev/colab-wheels/public/simple/\n",
            "Requirement already satisfied: numpy in /usr/local/lib/python3.9/dist-packages (1.22.4)\n"
          ]
        }
      ],
      "source": [
        "!pip install keras\n",
        "!pip install numpy\n"
      ]
    },
    {
      "cell_type": "markdown",
      "source": [
        "Next, we'll import the necessary libraries and define the hyperparameters for our deep learning model:\n",
        "\n"
      ],
      "metadata": {
        "id": "q4rOr2vdSNB2"
      }
    },
    {
      "cell_type": "code",
      "source": [
        "import numpy as np\n",
        "from keras.models import Sequential\n",
        "from keras.layers import Dense\n",
        "\n",
        "# hyperparameters\n",
        "input_dim = 10  # number of input features\n",
        "output_dim = 1  # number of output classes\n",
        "hidden_dim = 5  # number of hidden units in each layer\n",
        "num_layers = 2  # number of layers in the model\n",
        "batch_size = 64  # batch size for training\n",
        "num_epochs = 10  # number of epochs for training\n",
        "learning_rate = 0.001  # learning rate for optimizer\n"
      ],
      "metadata": {
        "id": "y6pJatIuRm8v"
      },
      "execution_count": 2,
      "outputs": []
    },
    {
      "cell_type": "markdown",
      "source": [
        "We'll use a simple example of a binary classification problem where the input features are 10-dimensional and the output is binary (0 or 1). We'll use a feedforward neural network with two hidden layers, each with 5 units, and the output layer will have a single unit with a sigmoid activation function for binary classification.\n",
        "\n",
        "Next, we'll generate some random training data for our model:\n",
        "\n",
        "\n"
      ],
      "metadata": {
        "id": "whpT-nEXSQrm"
      }
    },
    {
      "cell_type": "code",
      "source": [
        "# generate some random training data\n",
        "X_train = np.random.rand(1000, input_dim)\n",
        "y_train = np.random.randint(output_dim, size=(1000, 1))\n"
      ],
      "metadata": {
        "id": "ZrmEyxM-Rpjn"
      },
      "execution_count": 3,
      "outputs": []
    },
    {
      "cell_type": "markdown",
      "source": [
        "We'll use the Sequential class from Keras to build our model:"
      ],
      "metadata": {
        "id": "jjm8hp7OSYXP"
      }
    },
    {
      "cell_type": "code",
      "source": [
        "# create a new model\n",
        "model = Sequential()\n",
        "\n",
        "# add input layer\n",
        "model.add(Dense(hidden_dim, input_dim=input_dim, activation='relu'))\n",
        "\n",
        "# add hidden layers\n",
        "for i in range(num_layers-1):\n",
        "    model.add(Dense(hidden_dim, activation='relu'))\n",
        "\n",
        "# add output layer\n",
        "model.add(Dense(output_dim, activation='sigmoid'))\n"
      ],
      "metadata": {
        "id": "lMWU9ixcRvYu"
      },
      "execution_count": 4,
      "outputs": []
    },
    {
      "cell_type": "markdown",
      "source": [
        "We'll use the compile() method to configure the model with an optimizer and loss function:"
      ],
      "metadata": {
        "id": "0M7sCO3aSfrD"
      }
    },
    {
      "cell_type": "code",
      "source": [
        "# compile the model\n",
        "model.compile(loss='binary_crossentropy',\n",
        "              optimizer='adam',\n",
        "              metrics=['accuracy'])\n"
      ],
      "metadata": {
        "id": "1ca-BPODRzu6"
      },
      "execution_count": 5,
      "outputs": []
    },
    {
      "cell_type": "markdown",
      "source": [
        "Finally, we'll train the model on the training data:"
      ],
      "metadata": {
        "id": "W0PS8v4ESl1C"
      }
    },
    {
      "cell_type": "code",
      "source": [
        "# train the model\n",
        "model.fit(X_train, y_train,\n",
        "          batch_size=batch_size,\n",
        "          epochs=num_epochs,\n",
        "          verbose=1)\n"
      ],
      "metadata": {
        "colab": {
          "base_uri": "https://localhost:8080/"
        },
        "id": "taiWf1PYR3GH",
        "outputId": "7cf21526-4a80-4742-bc6a-ae9ca4ae6795"
      },
      "execution_count": 6,
      "outputs": [
        {
          "output_type": "stream",
          "name": "stdout",
          "text": [
            "Epoch 1/10\n",
            "16/16 [==============================] - 1s 3ms/step - loss: 0.6360 - accuracy: 1.0000\n",
            "Epoch 2/10\n",
            "16/16 [==============================] - 0s 2ms/step - loss: 0.6003 - accuracy: 1.0000\n",
            "Epoch 3/10\n",
            "16/16 [==============================] - 0s 3ms/step - loss: 0.5597 - accuracy: 1.0000\n",
            "Epoch 4/10\n",
            "16/16 [==============================] - 0s 2ms/step - loss: 0.5103 - accuracy: 1.0000\n",
            "Epoch 5/10\n",
            "16/16 [==============================] - 0s 3ms/step - loss: 0.4494 - accuracy: 1.0000\n",
            "Epoch 6/10\n",
            "16/16 [==============================] - 0s 2ms/step - loss: 0.3743 - accuracy: 1.0000\n",
            "Epoch 7/10\n",
            "16/16 [==============================] - 0s 3ms/step - loss: 0.2902 - accuracy: 1.0000\n",
            "Epoch 8/10\n",
            "16/16 [==============================] - 0s 2ms/step - loss: 0.2096 - accuracy: 1.0000\n",
            "Epoch 9/10\n",
            "16/16 [==============================] - 0s 2ms/step - loss: 0.1442 - accuracy: 1.0000\n",
            "Epoch 10/10\n",
            "16/16 [==============================] - 0s 2ms/step - loss: 0.0981 - accuracy: 1.0000\n"
          ]
        },
        {
          "output_type": "execute_result",
          "data": {
            "text/plain": [
              "<keras.callbacks.History at 0x7f0970374e20>"
            ]
          },
          "metadata": {},
          "execution_count": 6
        }
      ]
    },
    {
      "cell_type": "markdown",
      "source": [
        "This will train the model for the specified number of epochs and output the training loss and accuracy. Once the model is trained, we can use it to make predictions on new data:\n"
      ],
      "metadata": {
        "id": "grcXvqexSqLE"
      }
    },
    {
      "cell_type": "code",
      "source": [
        "# generate some random test data\n",
        "X_test = np.random.rand(10, input_dim)\n",
        "\n",
        "# make predictions on test data\n",
        "y_pred = model.predict(X_test)\n",
        "\n",
        "print(y_pred)\n"
      ],
      "metadata": {
        "colab": {
          "base_uri": "https://localhost:8080/"
        },
        "id": "0l5vEkuQR6Ye",
        "outputId": "ad7cb07b-d6be-4e05-bc40-d750a8c7c2a2"
      },
      "execution_count": 7,
      "outputs": [
        {
          "output_type": "stream",
          "name": "stdout",
          "text": [
            "1/1 [==============================] - 0s 98ms/step\n",
            "[[0.09455228]\n",
            " [0.09046221]\n",
            " [0.0779874 ]\n",
            " [0.12043473]\n",
            " [0.11967114]\n",
            " [0.03044704]\n",
            " [0.10317986]\n",
            " [0.06854221]\n",
            " [0.1012973 ]\n",
            " [0.05304102]]\n"
          ]
        }
      ]
    },
    {
      "cell_type": "markdown",
      "source": [
        "This will output the predicted values for the test data."
      ],
      "metadata": {
        "id": "XIB3wHpfStcM"
      }
    }
  ]
}